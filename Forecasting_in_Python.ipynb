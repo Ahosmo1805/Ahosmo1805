{
  "nbformat": 4,
  "nbformat_minor": 0,
  "metadata": {
    "colab": {
      "provenance": [],
      "authorship_tag": "ABX9TyNgPgGXs3hR1NfdBN0HHYCR",
      "include_colab_link": true
    },
    "kernelspec": {
      "name": "python3",
      "display_name": "Python 3"
    },
    "language_info": {
      "name": "python"
    }
  },
  "cells": [
    {
      "cell_type": "markdown",
      "metadata": {
        "id": "view-in-github",
        "colab_type": "text"
      },
      "source": [
        "<a href=\"https://colab.research.google.com/github/Ahosmo1805/Ahosmo1805/blob/main/Forecasting_in_Python.ipynb\" target=\"_parent\"><img src=\"https://colab.research.google.com/assets/colab-badge.svg\" alt=\"Open In Colab\"/></a>"
      ]
    },
    {
      "cell_type": "markdown",
      "source": [
        " Scenario\n",
        "The company have noticed a downturn in sales over the past few years and want you to predict sales for the next 5 years given the current rate.\n",
        "They have given you the totals for each year in the table below. Using these figures and the Python programming language, predict the next 5 years’ worth of sales data."
      ],
      "metadata": {
        "id": "YLeGl7-TZFsY"
      }
    },
    {
      "cell_type": "code",
      "execution_count": 4,
      "metadata": {
        "colab": {
          "base_uri": "https://localhost:8080/",
          "height": 1000
        },
        "id": "Lm11A1aXYsrM",
        "outputId": "dadb85e8-4d9f-4a6e-f713-e7ab2691d3aa"
      },
      "outputs": [
        {
          "output_type": "stream",
          "name": "stdout",
          "text": [
            "This is the head of the data           ds  y\n",
            "0 2022-01-01  0\n",
            "1 2022-01-02  1\n",
            "2 2022-01-03  2\n",
            "3 2022-01-04  3\n",
            "4 2022-01-05  4\n",
            "This is the tail of the data             ds    y\n",
            "360 2022-12-27  360\n",
            "361 2022-12-28  361\n",
            "362 2022-12-29  362\n",
            "363 2022-12-30  363\n",
            "364 2022-12-31  364\n",
            "Output of the forecast: 2023-01-01    365.0\n",
            "2023-01-02    366.0\n",
            "2023-01-03    367.0\n",
            "2023-01-04    368.0\n",
            "2023-01-05    369.0\n",
            "2023-01-06    370.0\n",
            "2023-01-07    371.0\n",
            "2023-01-08    372.0\n",
            "2023-01-09    373.0\n",
            "2023-01-10    374.0\n",
            "2023-01-11    375.0\n",
            "2023-01-12    376.0\n",
            "2023-01-13    377.0\n",
            "2023-01-14    378.0\n",
            "2023-01-15    379.0\n",
            "2023-01-16    380.0\n",
            "2023-01-17    381.0\n",
            "2023-01-18    382.0\n",
            "2023-01-19    383.0\n",
            "2023-01-20    384.0\n",
            "2023-01-21    385.0\n",
            "2023-01-22    386.0\n",
            "2023-01-23    387.0\n",
            "2023-01-24    388.0\n",
            "2023-01-25    389.0\n",
            "2023-01-26    390.0\n",
            "2023-01-27    391.0\n",
            "2023-01-28    392.0\n",
            "2023-01-29    393.0\n",
            "2023-01-30    394.0\n",
            "Freq: D, dtype: float64\n"
          ]
        },
        {
          "output_type": "stream",
          "name": "stderr",
          "text": [
            "/usr/local/lib/python3.10/dist-packages/statsmodels/tsa/base/tsa_model.py:473: ValueWarning: No frequency information was provided, so inferred frequency D will be used.\n",
            "  self._init_dates(dates, freq)\n"
          ]
        },
        {
          "output_type": "execute_result",
          "data": {
            "text/plain": [
              "[<matplotlib.lines.Line2D at 0x7bb346e77430>]"
            ]
          },
          "metadata": {},
          "execution_count": 4
        },
        {
          "output_type": "display_data",
          "data": {
            "text/plain": [
              "<Figure size 640x480 with 1 Axes>"
            ],
            "image/png": "[encoded data removed]"
          },
          "metadata": {}
        }
      ],
      "source": [
        "# Importing libraries needed for forecasting\n",
        "import pandas as pd\n",
        "import statsmodels.api as sm\n",
        "import matplotlib.pyplot as plt\n",
        "\n",
        "# Create dataframe\n",
        "data = pd.DataFrame({\n",
        "    'ds': pd.date_range(start='2022-01-01', periods=365, freq='D'),  # 'freq' should be 'D' for daily\n",
        "    'y': list(range(365))  # 'y' should be consistent with the length of 'ds'\n",
        "})\n",
        "\n",
        "print('This is the head of the data', data.head())\n",
        "print('This is the tail of the data', data.tail())\n",
        "\n",
        "# Set the 'ds' column as the index\n",
        "data.set_index('ds', inplace=True)  # Correct the quote and usage of inplace\n",
        "\n",
        "# Create an ExponentialSmoothing model instance with additive trend and no seasonality\n",
        "model = sm.tsa.ExponentialSmoothing(data['y'], trend='add', seasonal=None)  # 'data' should reference the 'y' column\n",
        "\n",
        "# Fit the model to the data\n",
        "results = model.fit()\n",
        "\n",
        "# Generate forecasts for the next 30 days\n",
        "forecast = results.forecast(steps=30)\n",
        "print('Output of the forecast:', forecast)\n",
        "\n",
        "# Plot the original data and the forecast\n",
        "plt.plot(data['y'], label='Actual')\n"
      ]
    },
    {
      "cell_type": "code",
      "source": [],
      "metadata": {
        "id": "O9yxVxKTZO35"
      },
      "execution_count": null,
      "outputs": []
    },
    {
      "cell_type": "code",
      "source": [],
      "metadata": {
        "id": "jDXRL7pdZOln"
      },
      "execution_count": null,
      "outputs": []
    }
  ]
}