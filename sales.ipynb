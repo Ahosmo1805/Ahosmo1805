{
  "nbformat": 4,
  "nbformat_minor": 0,
  "metadata": {
    "colab": {
      "provenance": [],
      "include_colab_link": true
    },
    "kernelspec": {
      "name": "python3",
      "display_name": "Python 3"
    },
    "language_info": {
      "name": "python"
    }
  },
  "cells": [
    {
      "cell_type": "markdown",
      "metadata": {
        "id": "view-in-github",
        "colab_type": "text"
      },
      "source": [
        "<a href=\"https://colab.research.google.com/github/Ahosmo1805/Ahosmo1805/blob/main/sales.ipynb\" target=\"_parent\"><img src=\"https://colab.research.google.com/assets/colab-badge.svg\" alt=\"Open In Colab\"/></a>"
      ]
    },
    {
      "cell_type": "code",
      "source": [
        "import pandas as pd\n",
        "data = pd.read_csv('Sales.csv')\n",
        "# Convert 'Order_Date' to datetime\n",
        "data.info()"
      ],
      "metadata": {
        "colab": {
          "base_uri": "https://localhost:8080/"
        },
        "id": "wlHIzBc9Qj0E",
        "outputId": "3c96532d-7fdb-480f-b548-cbb03bd532ed"
      },
      "execution_count": 8,
      "outputs": [
        {
          "output_type": "stream",
          "name": "stdout",
          "text": [
            "<class 'pandas.core.frame.DataFrame'>\n",
            "RangeIndex: 1482 entries, 0 to 1481\n",
            "Data columns (total 23 columns):\n",
            " #   Column                Non-Null Count  Dtype  \n",
            "---  ------                --------------  -----  \n",
            " 0   Row_ID                1482 non-null   int64  \n",
            " 1   Order_ID              1482 non-null   int64  \n",
            " 2   Order_Date            1482 non-null   object \n",
            " 3   Order_Priority        1482 non-null   object \n",
            " 4   Order_Quantity        1482 non-null   int64  \n",
            " 5   Sales                 1482 non-null   float64\n",
            " 6   Discount              1482 non-null   float64\n",
            " 7   Ship_Mode             1482 non-null   object \n",
            " 8   Profit                1482 non-null   float64\n",
            " 9   Unit_Price            1482 non-null   float64\n",
            " 10  Shipping_Cost         1482 non-null   float64\n",
            " 11  Customer_Name         1482 non-null   object \n",
            " 12  City                  1482 non-null   object \n",
            " 13  Zip_Code              1482 non-null   int64  \n",
            " 14  State                 1482 non-null   object \n",
            " 15  Region                1482 non-null   object \n",
            " 16  Customer_Segment      1482 non-null   object \n",
            " 17  Product_Category      1482 non-null   object \n",
            " 18  Product_Sub-Category  1482 non-null   object \n",
            " 19  Product_Name          1482 non-null   object \n",
            " 20  Product_Container     1482 non-null   object \n",
            " 21  Product_Base_Margin   1467 non-null   float64\n",
            " 22  Ship_Date             1482 non-null   object \n",
            "dtypes: float64(6), int64(4), object(13)\n",
            "memory usage: 266.4+ KB\n"
          ]
        }
      ]
    },
    {
      "cell_type": "code",
      "source": [
        "# Import the necessary libraries\n",
        "import pandas as pd\n",
        "import matplotlib.pyplot as plt\n",
        "from sklearn.linear_model import LinearRegression\n",
        "data = pd.read_csv('Sales.csv')\n",
        "data.info()\n"
      ],
      "metadata": {
        "colab": {
          "base_uri": "https://localhost:8080/"
        },
        "id": "aXvJxcsxQ2Ot",
        "outputId": "e2b1a6f0-3628-46fd-ec5a-1667a1b0ac1c"
      },
      "execution_count": 25,
      "outputs": [
        {
          "output_type": "stream",
          "name": "stdout",
          "text": [
            "<class 'pandas.core.frame.DataFrame'>\n",
            "RangeIndex: 1482 entries, 0 to 1481\n",
            "Data columns (total 23 columns):\n",
            " #   Column                Non-Null Count  Dtype  \n",
            "---  ------                --------------  -----  \n",
            " 0   Row_ID                1482 non-null   int64  \n",
            " 1   Order_ID              1482 non-null   int64  \n",
            " 2   Order_Date            1482 non-null   object \n",
            " 3   Order_Priority        1482 non-null   object \n",
            " 4   Order_Quantity        1482 non-null   int64  \n",
            " 5   Sales                 1482 non-null   float64\n",
            " 6   Discount              1482 non-null   float64\n",
            " 7   Ship_Mode             1482 non-null   object \n",
            " 8   Profit                1482 non-null   float64\n",
            " 9   Unit_Price            1482 non-null   float64\n",
            " 10  Shipping_Cost         1482 non-null   float64\n",
            " 11  Customer_Name         1482 non-null   object \n",
            " 12  City                  1482 non-null   object \n",
            " 13  Zip_Code              1482 non-null   int64  \n",
            " 14  State                 1482 non-null   object \n",
            " 15  Region                1482 non-null   object \n",
            " 16  Customer_Segment      1482 non-null   object \n",
            " 17  Product_Category      1482 non-null   object \n",
            " 18  Product_Sub-Category  1482 non-null   object \n",
            " 19  Product_Name          1482 non-null   object \n",
            " 20  Product_Container     1482 non-null   object \n",
            " 21  Product_Base_Margin   1467 non-null   float64\n",
            " 22  Ship_Date             1482 non-null   object \n",
            "dtypes: float64(6), int64(4), object(13)\n",
            "memory usage: 266.4+ KB\n"
          ]
        }
      ]
    },
    {
      "cell_type": "code",
      "source": [
        "print(data.mean(numeric_only=True))"
      ],
      "metadata": {
        "colab": {
          "base_uri": "https://localhost:8080/"
        },
        "id": "PNL69lRiDSzl",
        "outputId": "11096562-5eb2-4406-b44b-42b675bda473"
      },
      "execution_count": null,
      "outputs": [
        {
          "output_type": "stream",
          "name": "stdout",
          "text": [
            "Row_ID                   741.500000\n",
            "Order_ID                5312.639001\n",
            "Order_Quantity            25.136302\n",
            "Sales                   1776.367754\n",
            "Discount                   0.049757\n",
            "Profit                   193.785398\n",
            "Unit_Price                84.270911\n",
            "Shipping_Cost             12.795385\n",
            "Zip_Code               53396.984480\n",
            "Product_Base_Margin        0.516067\n",
            "dtype: float64\n"
          ]
        }
      ]
    },
    {
      "cell_type": "code",
      "source": [
        "print(data.mode(numeric_only=True))"
      ],
      "metadata": {
        "colab": {
          "base_uri": "https://localhost:8080/"
        },
        "id": "C3oPAq9mDnpe",
        "outputId": "bde99278-cf5e-4cb8-ae03-e34e335729db"
      },
      "execution_count": null,
      "outputs": [
        {
          "output_type": "stream",
          "name": "stdout",
          "text": [
            "      Row_ID  Order_ID  Order_Quantity   Sales  Discount  Profit  Unit_Price  \\\n",
            "0          1    1444.0             7.0   43.57      0.01 -715.78        6.48   \n",
            "1          2    8995.0            24.0   64.29       NaN     NaN         NaN   \n",
            "2          3       NaN             NaN   79.81       NaN     NaN         NaN   \n",
            "3          4       NaN             NaN  115.81       NaN     NaN         NaN   \n",
            "4          5       NaN             NaN  133.04       NaN     NaN         NaN   \n",
            "...      ...       ...             ...     ...       ...     ...         ...   \n",
            "1477    1478       NaN             NaN     NaN       NaN     NaN         NaN   \n",
            "1478    1479       NaN             NaN     NaN       NaN     NaN         NaN   \n",
            "1479    1480       NaN             NaN     NaN       NaN     NaN         NaN   \n",
            "1480    1481       NaN             NaN     NaN       NaN     NaN         NaN   \n",
            "1481    1482       NaN             NaN     NaN       NaN     NaN         NaN   \n",
            "\n",
            "      Shipping_Cost  Zip_Code  Product_Base_Margin  \n",
            "0             19.99   81301.0                 0.37  \n",
            "1               NaN   97068.0                  NaN  \n",
            "2               NaN       NaN                  NaN  \n",
            "3               NaN       NaN                  NaN  \n",
            "4               NaN       NaN                  NaN  \n",
            "...             ...       ...                  ...  \n",
            "1477            NaN       NaN                  NaN  \n",
            "1478            NaN       NaN                  NaN  \n",
            "1479            NaN       NaN                  NaN  \n",
            "1480            NaN       NaN                  NaN  \n",
            "1481            NaN       NaN                  NaN  \n",
            "\n",
            "[1482 rows x 10 columns]\n"
          ]
        }
      ]
    },
    {
      "cell_type": "code",
      "source": [
        "print(data.corr(numeric_only = True))"
      ],
      "metadata": {
        "colab": {
          "base_uri": "https://localhost:8080/"
        },
        "id": "uBNJocq3FuZZ",
        "outputId": "d70c711d-72c3-4982-a64b-e780876b9ace"
      },
      "execution_count": null,
      "outputs": [
        {
          "output_type": "stream",
          "name": "stdout",
          "text": [
            "                       Row_ID  Order_ID  Order_Quantity     Sales  Discount  \\\n",
            "Row_ID               1.000000  0.999678        0.010941 -0.017732  0.000244   \n",
            "Order_ID             0.999678  1.000000        0.011242 -0.018402  0.000745   \n",
            "Order_Quantity       0.010941  0.011242        1.000000  0.234799 -0.043920   \n",
            "Sales               -0.017732 -0.018402        0.234799  1.000000 -0.002856   \n",
            "Discount             0.000244  0.000745       -0.043920 -0.002856  1.000000   \n",
            "Profit              -0.004731 -0.005057        0.190236  0.647503 -0.059960   \n",
            "Unit_Price          -0.028679 -0.029727       -0.073799  0.711491  0.027818   \n",
            "Shipping_Cost        0.014686  0.015176        0.027607  0.424885  0.050953   \n",
            "Zip_Code             0.050777  0.050964        0.002539 -0.008827  0.021502   \n",
            "Product_Base_Margin  0.030123  0.030746        0.040883  0.164342  0.010188   \n",
            "\n",
            "                       Profit  Unit_Price  Shipping_Cost  Zip_Code  \\\n",
            "Row_ID              -0.004731   -0.028679       0.014686  0.050777   \n",
            "Order_ID            -0.005057   -0.029727       0.015176  0.050964   \n",
            "Order_Quantity       0.190236   -0.073799       0.027607  0.002539   \n",
            "Sales                0.647503    0.711491       0.424885 -0.008827   \n",
            "Discount            -0.059960    0.027818       0.050953  0.021502   \n",
            "Profit               1.000000    0.200264      -0.023292  0.008552   \n",
            "Unit_Price           0.200264    1.000000       0.253551 -0.011836   \n",
            "Shipping_Cost       -0.023292    0.253551       1.000000 -0.021719   \n",
            "Zip_Code             0.008552   -0.011836      -0.021719  1.000000   \n",
            "Product_Base_Margin -0.119915    0.097487       0.373010 -0.014714   \n",
            "\n",
            "                     Product_Base_Margin  \n",
            "Row_ID                          0.030123  \n",
            "Order_ID                        0.030746  \n",
            "Order_Quantity                  0.040883  \n",
            "Sales                           0.164342  \n",
            "Discount                        0.010188  \n",
            "Profit                         -0.119915  \n",
            "Unit_Price                      0.097487  \n",
            "Shipping_Cost                   0.373010  \n",
            "Zip_Code                       -0.014714  \n",
            "Product_Base_Margin             1.000000  \n"
          ]
        }
      ]
    },
    {
      "cell_type": "code",
      "source": [
        "import pandas as pd\n",
        "import matplotlib.pyplot as plt\n",
        "from sklearn.linear_model import LinearRegression\n",
        "# Load the data\n",
        "df = pd.read_csv('Sales.csv')\n",
        "# Extract the relevant columns\n",
        "x = df[['Unit_Price']]  # Independent variable\n",
        "y = df[['Sales']]       # Dependent variable\n",
        "# Create the Linear Regression model\n",
        "model = LinearRegression()\n",
        "# Train the model\n",
        "model.fit(x, y)\n",
        "# Make predictions\n",
        "y_pred = model.predict(x)\n",
        "# Print the coefficients\n",
        "print(\"Intercept:\", model.intercept_[0])\n",
        "print(\"Coefficient:\", model.coef_[0][0])\n",
        "# Visualize the results\n",
        "plt.figure(figsize=(10, 6))\n",
        "plt.scatter(x, y, color='blue', label='Actual Sales')\n",
        "plt.plot(x, y_pred, color='red', linewidth=2, label='Predicted Sales')\n",
        "plt.xlabel('Unit Price')\n",
        "plt.ylabel('Sales')\n",
        "plt.title('Linear Regression: Unit Price vs Sales')\n",
        "plt.legend()\n",
        "plt.show()"
      ],
      "metadata": {
        "colab": {
          "base_uri": "https://localhost:8080/",
          "height": 599
        },
        "id": "hxidDMNaOWIa",
        "outputId": "32a4ba4b-faba-40ed-ab95-2ed264b6c520"
      },
      "execution_count": null,
      "outputs": [
        {
          "output_type": "stream",
          "name": "stdout",
          "text": [
            "Intercept: 932.3361872937372\n",
            "Coefficient: 10.015692933253883\n"
          ]
        },
        {
          "output_type": "display_data",
          "data": {
            "text/plain": [
              "<Figure size 1000x600 with 1 Axes>"
            ],
            "image/png": "[encoded data removed]"
          },
          "metadata": {}
        }
      ]
    },
    {
      "cell_type": "code",
      "source": [
        "import pandas as pd\n",
        "\n",
        "# Create a sample DataFrame\n",
        "data = {'Name': ['Alice', 'Bob', 'Charlie', 'David'],\n",
        "        'Age':  [25, 30, 22, 35],\n",
        "        'Salary': [50000, 60000, 45000, 70000]}\n",
        "df = pd.DataFrame(data)\n",
        "\n",
        "# Filter rows where Age is greater than 25\n",
        "filtered_df = df[df['Age'] > 25]\n",
        "\n",
        "print(filtered_df)\n"
      ],
      "metadata": {
        "id": "w6S-U6-iuMyN",
        "outputId": "d4815b06-5e32-474c-8e8c-94e9f8f8431c",
        "colab": {
          "base_uri": "https://localhost:8080/"
        }
      },
      "execution_count": 20,
      "outputs": [
        {
          "output_type": "stream",
          "name": "stdout",
          "text": [
            "    Name  Age  Salary\n",
            "1    Bob   30   60000\n",
            "3  David   35   70000\n"
          ]
        }
      ]
    },
    {
      "cell_type": "code",
      "source": [
        "# Filter rows where Name contains 'a'\n",
        "filtered_df = df[df['Name'].str.contains('alice', case=False)]\n",
        "\n",
        "print(filtered_df)"
      ],
      "metadata": {
        "id": "cVxE50MDxmdp",
        "outputId": "887bfb13-e6a7-44e0-a8dc-d7575c5740dd",
        "colab": {
          "base_uri": "https://localhost:8080/"
        }
      },
      "execution_count": 21,
      "outputs": [
        {
          "output_type": "stream",
          "name": "stdout",
          "text": [
            "    Name  Age  Salary\n",
            "0  Alice   25   50000\n"
          ]
        }
      ]
    },
    {
      "cell_type": "code",
      "source": [
        "# Filter rows where Name is in a given list\n",
        "name_list = ['Alice', 'Charlie']\n",
        "filtered_df = df[df['Name'].isin(name_list)]\n",
        "\n",
        "print(filtered_df)"
      ],
      "metadata": {
        "id": "gK6bq6RV0oMv",
        "outputId": "2a19e80d-04ad-4b21-fa4f-851d139ac2ab",
        "colab": {
          "base_uri": "https://localhost:8080/"
        }
      },
      "execution_count": 23,
      "outputs": [
        {
          "output_type": "stream",
          "name": "stdout",
          "text": [
            "      Name  Age  Salary\n",
            "0    Alice   25   50000\n",
            "2  Charlie   22   45000\n"
          ]
        }
      ]
    },
    {
      "cell_type": "code",
      "source": [
        "import pandas as pd\n",
        "\n",
        "# Load the dataset\n",
        "data = pd.read_csv('Sales.csv')\n",
        "\n",
        "# Ensure that 'Order_Date' is in datetime format\n",
        "data['Order_Date'] = pd.to_datetime(data['Order_Date'])\n",
        "\n",
        "# Step 1: Filter by a specific date or date range\n",
        "# Example: Filter data for orders in the year 2020\n",
        "start_date = '2020-01-01'\n",
        "end_date = '2020-12-31'\n",
        "filtered_data_by_date = data[(data['Order_Date'] >= start_date) & (data['Order_Date'] <= end_date)]\n",
        "\n",
        "# Step 2: Filter by location\n",
        "# Example: Filter data for orders in a specific city\n",
        "specific_city = 'New York'\n",
        "filtered_data_by_location = filtered_data_by_date[filtered_data_by_date['City'] == specific_city]\n",
        "\n",
        "# Step 3: Apply specific business requirements\n",
        "# Example: Filter customers who have spent over £1000\n",
        "customer_sales = filtered_data_by_location.groupby('Customer_Name')['Sales'].sum().reset_index()\n",
        "high_value_customers = customer_sales[customer_sales['Sales'] > 1000]\n",
        "\n",
        "# Print the filtered results\n",
        "print(\"Filtered data by date range:\")\n",
        "print(filtered_data_by_date)\n",
        "\n",
        "print(\"\\nFiltered data by location:\")\n",
        "print(filtered_data_by_location)\n",
        "\n",
        "print(\"\\nCustomers who spent over £1000:\")\n",
        "print(high_value_customers)\n"
      ],
      "metadata": {
        "id": "CZvlX5-A_-31",
        "outputId": "8d9494f2-679f-47b4-d200-1ebe051f0528",
        "colab": {
          "base_uri": "https://localhost:8080/"
        }
      },
      "execution_count": 30,
      "outputs": [
        {
          "output_type": "stream",
          "name": "stdout",
          "text": [
            "Filtered data by date range:\n",
            "Empty DataFrame\n",
            "Columns: [Row_ID, Order_ID, Order_Date, Order_Priority, Order_Quantity, Sales, Discount, Ship_Mode, Profit, Unit_Price, Shipping_Cost, Customer_Name, City, Zip_Code, State, Region, Customer_Segment, Product_Category, Product_Sub-Category, Product_Name, Product_Container, Product_Base_Margin, Ship_Date]\n",
            "Index: []\n",
            "\n",
            "[0 rows x 23 columns]\n",
            "\n",
            "Filtered data by location:\n",
            "Empty DataFrame\n",
            "Columns: [Row_ID, Order_ID, Order_Date, Order_Priority, Order_Quantity, Sales, Discount, Ship_Mode, Profit, Unit_Price, Shipping_Cost, Customer_Name, City, Zip_Code, State, Region, Customer_Segment, Product_Category, Product_Sub-Category, Product_Name, Product_Container, Product_Base_Margin, Ship_Date]\n",
            "Index: []\n",
            "\n",
            "[0 rows x 23 columns]\n",
            "\n",
            "Customers who spent over £1000:\n",
            "Empty DataFrame\n",
            "Columns: [Customer_Name, Sales]\n",
            "Index: []\n"
          ]
        },
        {
          "output_type": "stream",
          "name": "stderr",
          "text": [
            "<ipython-input-30-cbf42a33e588>:7: UserWarning: Parsing dates in %d/%m/%Y format when dayfirst=False (the default) was specified. Pass `dayfirst=True` or specify a format to silence this warning.\n",
            "  data['Order_Date'] = pd.to_datetime(data['Order_Date'])\n"
          ]
        }
      ]
    },
    {
      "cell_type": "code",
      "source": [
        "# Selecting the first row\n",
        "first_row = df.iloc[0]\n",
        "print(\"First Row using iloc:\")\n",
        "print(first_row)\n",
        "print()\n",
        "\n",
        "# Selecting specific rows and columns using iloc\n",
        "subset_df = df.iloc[1:3, 0:2] # Rows 1 to 2, Columns 0 to 1\n",
        "print(\"Subset of DataFrame using iloc:\")\n",
        "print(subset_df)"
      ],
      "metadata": {
        "id": "9j7Xs3lT0otO",
        "outputId": "1e35b7e9-2345-4447-8538-044f5e28d9e4",
        "colab": {
          "base_uri": "https://localhost:8080/"
        }
      },
      "execution_count": 24,
      "outputs": [
        {
          "output_type": "stream",
          "name": "stdout",
          "text": [
            "First Row using iloc:\n",
            "Name      Alice\n",
            "Age          25\n",
            "Salary    50000\n",
            "Name: 0, dtype: object\n",
            "\n",
            "Subset of DataFrame using iloc:\n",
            "      Name  Age\n",
            "1      Bob   30\n",
            "2  Charlie   22\n"
          ]
        }
      ]
    },
    {
      "cell_type": "code",
      "source": [
        "import pandas as pd\n",
        "import matplotlib.pyplot as plt\n",
        "\n",
        "# Load the dataset\n",
        "data = pd.read_csv('Sales.csv')\n",
        "\n",
        "# Ensure data types are correct\n",
        "data['Sales'] = data['Sales'].astype(float)\n",
        "\n",
        "# Aggregate the sales by customer\n",
        "customer_sales = data.groupby('Customer_Name')['Sales'].sum().reset_index()\n",
        "\n",
        "# Filter customers who spent over £1000\n",
        "high_value_customers = customer_sales[customer_sales['Sales'] > 1000]\n",
        "low_value_customers = customer_sales[customer_sales['Sales'] <= 1000]\n",
        "\n",
        "# Count the number of high and low value customers\n",
        "num_high_value_customers = high_value_customers.shape[0]\n",
        "num_low_value_customers = low_value_customers.shape[0]\n",
        "\n",
        "# Print the results\n",
        "print(f\"Number of customers who spent over £1000: {num_high_value_customers}\")\n",
        "print(f\"Number of customers who spent £1000 or less: {num_low_value_customers}\")\n",
        "\n",
        "# List the customers who spent over £1000\n",
        "print(\"Customers who spent over £1000:\")\n",
        "print(high_value_customers)\n",
        "\n",
        "# List the customers who spent £1000 or less\n",
        "print(\"Customers who spent £1000 or less:\")\n",
        "print(low_value_customers)\n"
      ],
      "metadata": {
        "id": "-f1dqAXc8a22",
        "outputId": "7076b432-34ee-4ba9-c6d2-785efb2d85b7",
        "colab": {
          "base_uri": "https://localhost:8080/"
        }
      },
      "execution_count": 26,
      "outputs": [
        {
          "output_type": "stream",
          "name": "stdout",
          "text": [
            "Number of customers who spent over £1000: 341\n",
            "Number of customers who spent £1000 or less: 195\n",
            "Customers who spent over £1000:\n",
            "          Customer_Name       Sales\n",
            "3             Adam Hart   4153.3000\n",
            "4    Adam Shillingsburg   8573.2420\n",
            "7        Alan Dominguez   3084.4265\n",
            "8           Alan Haines   3044.2400\n",
            "10    Alan Schoenberger  16346.2850\n",
            "..                  ...         ...\n",
            "527      Vicky Freymann   1712.6600\n",
            "529    Victoria Pisteka  10622.1560\n",
            "531       Vivian Mathis   6621.0500\n",
            "532       William Brown   3433.6815\n",
            "535      Yoseph Carroll   7071.0295\n",
            "\n",
            "[341 rows x 2 columns]\n",
            "Customers who spent £1000 or less:\n",
            "       Customer_Name    Sales\n",
            "0      Aaron Bergman   14.760\n",
            "1     Aaron Smayling  243.520\n",
            "2    Adam Bellavance   54.790\n",
            "5        Adrian Hane  436.210\n",
            "6        Alan Barnes  884.367\n",
            "..               ...      ...\n",
            "523      Trudy Brown  496.150\n",
            "528     Victor Price  529.183\n",
            "530   Vivek Gonzalez   78.170\n",
            "533     Xylona Price  106.640\n",
            "534    Yana Sorensen  994.040\n",
            "\n",
            "[195 rows x 2 columns]\n"
          ]
        }
      ]
    },
    {
      "cell_type": "code",
      "source": [
        "import pandas as pd\n",
        "\n",
        "# Read the upload CSV file\n",
        "data = pd.read_csv('Sales.csv')\n",
        "\n",
        "#print(data.head(10))\n",
        "\n",
        "over1000 = data[data['Sales'] > 1000]\n",
        "\n",
        "under1000 = data[data['Sales'] <= 1000]\n",
        "\n",
        "print('Number of customers spend over 1000', len(over1000))\n",
        "print('Number of customers spend over 1000', len(under1000))"
      ],
      "metadata": {
        "id": "ISGiwW3X8bRc",
        "outputId": "1cbd2d80-26a4-46f8-85c2-96597d16e67d",
        "colab": {
          "base_uri": "https://localhost:8080/"
        }
      },
      "execution_count": 28,
      "outputs": [
        {
          "output_type": "stream",
          "name": "stdout",
          "text": [
            "Number of customers spend over 1000 514\n",
            "Number of customers spend over 1000 968\n"
          ]
        }
      ]
    },
    {
      "cell_type": "code",
      "source": [
        "import pandas as pd\n",
        "\n",
        "# Read the uploaded CSV file\n",
        "data = pd.read_csv('Sales.csv')\n",
        "\n",
        "# Ensure 'Sales' is in the correct format\n",
        "data['Sales'] = data['Sales'].astype(float)\n",
        "\n",
        "# Filter orders where Sales are over £1000 (Inclusion)\n",
        "over1000 = data[data['Sales'] > 1000]\n",
        "\n",
        "# Filter orders where Sales are £1000 or less (Exclusion)\n",
        "under1000 = data[data['Sales'] <= 1000]\n",
        "\n",
        "# Print the number of customers who spent over £1000\n",
        "print('Number of orders over £1000:', len(over1000))\n",
        "\n",
        "# Print the number of customers who spent £1000 or less\n",
        "print('Number of orders £1000 or less:', len(under1000))\n",
        "\n",
        "# Inclusion: Data for orders over £1000\n",
        "print(\"\\nInclusion Data (Orders over £1000):\")\n",
        "print(over1000)\n",
        "\n",
        "# Exclusion: Data for orders £1000 or less\n",
        "print(\"\\nExclusion Data (Orders £1000 or less):\")\n",
        "print(under1000)\n"
      ],
      "metadata": {
        "id": "S8l86S2qCUWV",
        "outputId": "1d93870f-de9b-4fce-dfd1-45822b602ef7",
        "colab": {
          "base_uri": "https://localhost:8080/"
        }
      },
      "execution_count": 32,
      "outputs": [
        {
          "output_type": "stream",
          "name": "stdout",
          "text": [
            "Number of orders over £1000: 514\n",
            "Number of orders £1000 or less: 968\n",
            "\n",
            "Inclusion Data (Orders over £1000):\n",
            "      Row_ID  Order_ID  Order_Date Order_Priority  Order_Quantity      Sales  \\\n",
            "2          3        32  15/07/2011           High              26  2808.0800   \n",
            "3          4        32  15/07/2011           High              24  1761.4000   \n",
            "7          8        35  22/10/2011  Not Specified              14  1892.8480   \n",
            "8          9        36  02/11/2011       Critical              46  2484.7455   \n",
            "9         10        65  17/03/2011       Critical              32  3812.7300   \n",
            "...      ...       ...         ...            ...             ...        ...   \n",
            "1469    1470     10624  20/12/2009       Critical              23  1082.4300   \n",
            "1473    1474     10630  04/02/2010         Medium              44  2773.8400   \n",
            "1475    1476     10657  25/09/2010         Medium               8  1848.5200   \n",
            "1478    1479     10658  27/08/2009            Low              17  1332.9700   \n",
            "1481    1482     10661  23/01/2009  Not Specified              42  1312.6500   \n",
            "\n",
            "      Discount       Ship_Mode   Profit  Unit_Price  ...  Zip_Code  \\\n",
            "2         0.07     Regular Air  1054.82      107.53  ...     98387   \n",
            "3         0.09  Delivery Truck -1748.56       70.89  ...     98387   \n",
            "7         0.01     Regular Air    48.99      155.99  ...     50010   \n",
            "8         0.10     Regular Air   657.48       65.99  ...     97321   \n",
            "9         0.02     Regular Air  1470.30      115.79  ...     78660   \n",
            "...        ...             ...      ...         ...  ...       ...   \n",
            "1469      0.06     Regular Air    23.97       47.98  ...     76201   \n",
            "1473      0.00  Delivery Truck  -513.76       58.14  ...     23464   \n",
            "1475      0.05  Delivery Truck  -493.60      218.75  ...     22003   \n",
            "1478      0.09     Regular Air     4.75       95.99  ...     90503   \n",
            "1481      0.07     Regular Air   488.31       30.98  ...     20190   \n",
            "\n",
            "           State   Region  Customer_Segment Product_Category  \\\n",
            "2     Washington     West         Corporate        Furniture   \n",
            "3     Washington     West         Corporate        Furniture   \n",
            "7           Iowa  Central         Corporate       Technology   \n",
            "8         Oregon     West       Home Office       Technology   \n",
            "9          Texas  Central         Corporate       Technology   \n",
            "...          ...      ...               ...              ...   \n",
            "1469       Texas  Central         Corporate       Technology   \n",
            "1473    Virginia    South         Corporate        Furniture   \n",
            "1475    Virginia    South          Consumer        Furniture   \n",
            "1478  California     West          Consumer       Technology   \n",
            "1481    Virginia    South          Consumer  Office Supplies   \n",
            "\n",
            "              Product_Sub-Category  \\\n",
            "2               Office Furnishings   \n",
            "3                           Tables   \n",
            "7     Telephones and Communication   \n",
            "8     Telephones and Communication   \n",
            "9             Computer Peripherals   \n",
            "...                            ...   \n",
            "1469          Computer Peripherals   \n",
            "1473                     Bookcases   \n",
            "1475                        Tables   \n",
            "1478  Telephones and Communication   \n",
            "1481                         Paper   \n",
            "\n",
            "                                           Product_Name Product_Container  \\\n",
            "2     Tenex Contemporary Contur Chairmats for Low an...        Medium Box   \n",
            "3                                  KI Conference Tables         Jumbo Box   \n",
            "7                                                CF 688         Small Box   \n",
            "8                                                 6162i         Small Box   \n",
            "9     Verbatim DVD-R, 4.7GB, Spindle, WE, Blank, Ink...        Small Pack   \n",
            "...                                                 ...               ...   \n",
            "1469  DS/HD IBM Formatted Diskettes, 200/Pack - Staples        Small Pack   \n",
            "1473            O'Sullivan 3-Shelf Heavy-Duty Bookcases         Jumbo Box   \n",
            "1475  BoxOffice By Design Rectangular and Half-Moon ...         Jumbo Box   \n",
            "1478                                    600 Series Flip         Small Box   \n",
            "1481    IBM Multi-Purpose Copy Paper, 8 1/2 x 11\", Case         Small Box   \n",
            "\n",
            "     Product_Base_Margin   Ship_Date  \n",
            "2                   0.65  17/07/2011  \n",
            "3                   0.72  16/07/2011  \n",
            "7                   0.58  24/10/2011  \n",
            "8                   0.55  02/11/2011  \n",
            "9                   0.49  18/03/2011  \n",
            "...                  ...         ...  \n",
            "1469                0.71  22/12/2009  \n",
            "1473                0.61  06/02/2010  \n",
            "1475                0.77  26/09/2010  \n",
            "1478                0.57  03/09/2009  \n",
            "1481                0.40  25/01/2009  \n",
            "\n",
            "[514 rows x 23 columns]\n",
            "\n",
            "Exclusion Data (Orders £1000 or less):\n",
            "      Row_ID  Order_ID  Order_Date Order_Priority  Order_Quantity     Sales  \\\n",
            "0          1         3  13/10/2010            Low               6  261.5400   \n",
            "1          2         6  20/02/2012  Not Specified               2    6.9300   \n",
            "4          5        32  15/07/2011           High              23  160.2335   \n",
            "5          6        32  15/07/2011           High              15  140.5600   \n",
            "6          7        35  22/10/2011  Not Specified              30  288.5600   \n",
            "...      ...       ...         ...            ...             ...       ...   \n",
            "1474    1475     10657  25/09/2010         Medium              44  289.9400   \n",
            "1476    1477     10658  27/08/2009            Low              31  262.5400   \n",
            "1477    1478     10658  27/08/2009            Low              12  190.7300   \n",
            "1479    1480     10659  14/05/2009       Critical              40  227.3700   \n",
            "1480    1481     10661  23/01/2009  Not Specified              18  136.4100   \n",
            "\n",
            "      Discount    Ship_Mode  Profit  Unit_Price  ...  Zip_Code  \\\n",
            "0         0.04  Regular Air -213.25       38.94  ...     60035   \n",
            "1         0.01  Regular Air   -4.64        2.08  ...     98026   \n",
            "4         0.04  Regular Air  -85.13        7.99  ...     98387   \n",
            "5         0.04  Regular Air -128.38        8.46  ...     27260   \n",
            "6         0.03  Regular Air   60.72        9.11  ...     50010   \n",
            "...        ...          ...     ...         ...  ...       ...   \n",
            "1474      0.07  Regular Air -102.19        6.48  ...     22003   \n",
            "1476      0.04  Regular Air   29.24        8.50  ...     90503   \n",
            "1477      0.10  Regular Air  -69.64       15.99  ...     90503   \n",
            "1479      0.00  Regular Air  -92.07        5.28  ...     71854   \n",
            "1480      0.00  Regular Air  -99.34        6.84  ...     67114   \n",
            "\n",
            "               State   Region  Customer_Segment Product_Category  \\\n",
            "0           Illinois  Central    Small Business  Office Supplies   \n",
            "1         Washington     West         Corporate  Office Supplies   \n",
            "4         Washington     West         Corporate       Technology   \n",
            "5     North Carolina    South         Corporate       Technology   \n",
            "6               Iowa  Central         Corporate  Office Supplies   \n",
            "...              ...      ...               ...              ...   \n",
            "1474        Virginia    South          Consumer  Office Supplies   \n",
            "1476      California     West          Consumer       Technology   \n",
            "1477      California     West          Consumer       Technology   \n",
            "1479        Arkansas    South         Corporate  Office Supplies   \n",
            "1480          Kansas  Central          Consumer  Office Supplies   \n",
            "\n",
            "               Product_Sub-Category  \\\n",
            "0            Storage & Organization   \n",
            "1     Scissors, Rulers and Trimmers   \n",
            "4      Telephones and Communication   \n",
            "5              Computer Peripherals   \n",
            "6               Pens & Art Supplies   \n",
            "...                             ...   \n",
            "1474                          Paper   \n",
            "1476           Computer Peripherals   \n",
            "1477                Office Machines   \n",
            "1479                          Paper   \n",
            "1480  Scissors, Rulers and Trimmers   \n",
            "\n",
            "                                           Product_Name Product_Container  \\\n",
            "0      Eldon Base for stackable storage shelf, platinum         Large Box   \n",
            "1     Kleencut® Forged Office Shears by Acme United ...        Small Pack   \n",
            "4                          Bell Sonecor JB700 Caller ID        Medium Box   \n",
            "5                     Imation 3.5 IBM Diskettes, 10/Box        Small Pack   \n",
            "6           Dixon Ticonderoga Core-Lock Colored Pencils          Wrap Bag   \n",
            "...                                                 ...               ...   \n",
            "1474                                         Xerox 1894         Small Box   \n",
            "1476                  Hewlett-Packard 4.7GB DVD+R Discs        Small Pack   \n",
            "1477               AT&T Black Trimline Phone, Model 210         Small Box   \n",
            "1479                                         Xerox 1954         Small Box   \n",
            "1480  Acme Design Line 8\" Stainless Steel Bent Sciss...        Small Pack   \n",
            "\n",
            "     Product_Base_Margin   Ship_Date  \n",
            "0                   0.80  20/10/2010  \n",
            "1                   0.55  21/02/2012  \n",
            "4                   0.60  17/07/2011  \n",
            "5                   0.79  16/07/2011  \n",
            "6                   0.52  23/10/2011  \n",
            "...                  ...         ...  \n",
            "1474                0.37  27/09/2010  \n",
            "1476                0.49  31/08/2009  \n",
            "1477                0.49  27/08/2009  \n",
            "1479                0.40  14/05/2009  \n",
            "1480                0.58  24/01/2009  \n",
            "\n",
            "[968 rows x 23 columns]\n"
          ]
        }
      ]
    }
  ]
}